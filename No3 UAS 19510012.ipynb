{
 "cells": [
  {
   "cell_type": "code",
   "execution_count": null,
   "id": "b38ba892",
   "metadata": {},
   "outputs": [],
   "source": [
    "import pandas as pd\n",
    "import numpy as np\n",
    "import matplotlib.pyplot as plt\n",
    "%matplotlib inline"
   ]
  },
  {
   "cell_type": "code",
   "execution_count": null,
   "id": "067cbb4f",
   "metadata": {},
   "outputs": [],
   "source": [
    "df=pd.read_csv('E:/KULIAH/Semester 6/DATA MINING/kisiUASDataMining/dataset_soal No. 3.csv',delimiter=',')"
   ]
  },
  {
   "cell_type": "markdown",
   "id": "b5de2cd6",
   "metadata": {},
   "source": []
  },
  {
   "cell_type": "code",
   "execution_count": null,
   "id": "f2c6a14d",
   "metadata": {},
   "outputs": [],
   "source": [
    "lahir_df.head()"
   ]
  },
  {
   "cell_type": "code",
   "execution_count": null,
   "id": "a1fca294",
   "metadata": {},
   "outputs": [],
   "source": [
    "lahir_df.shape"
   ]
  },
  {
   "cell_type": "code",
   "execution_count": null,
   "id": "43bf31e9",
   "metadata": {},
   "outputs": [],
   "source": [
    "import math\n",
    "dis = []\n",
    "for i in range(80):\n",
    "    dis.append(math.sqrt((float(df.iloc[i]['Usia'])-30)**4+\n",
    "                         (float(df.iloc[i]['Kelahiran_ke-'])- 1)**4+\n",
    "                         (float(df.iloc[i]['Waktu_Kelahiran'])-0)**4+\n",
    "                         (float(df.iloc[i]['Tekanan_darah'])-1)**4))"
   ]
  },
  {
   "cell_type": "code",
   "execution_count": null,
   "id": "23875d70",
   "metadata": {},
   "outputs": [],
   "source": [
    "df['dis'] = dis\n",
    "df"
   ]
  },
  {
   "cell_type": "code",
   "execution_count": null,
   "id": "1c1e481a",
   "metadata": {},
   "outputs": [],
   "source": [
    "df.sort_values('dis')"
   ]
  },
  {
   "cell_type": "code",
   "execution_count": null,
   "id": "a2ecbfe1",
   "metadata": {},
   "outputs": [],
   "source": [
    "y = df.sort_values('dis').head(3)\n",
    "y"
   ]
  },
  {
   "cell_type": "code",
   "execution_count": null,
   "id": "053f0e83",
   "metadata": {},
   "outputs": [],
   "source": [
    "z = y[\"Caesarian\"]\n",
    "z"
   ]
  },
  {
   "cell_type": "code",
   "execution_count": null,
   "id": "0145dcda",
   "metadata": {},
   "outputs": [],
   "source": [
    "np.mean(z)"
   ]
  },
  {
   "cell_type": "code",
   "execution_count": null,
   "id": "bdf1541f",
   "metadata": {},
   "outputs": [],
   "source": [
    "df.to_excel('E:/KULIAH/Semester 6/DATA MINING/UAS/output3.xls')"
   ]
  },
  {
   "cell_type": "code",
   "execution_count": null,
   "id": "c76a16bd",
   "metadata": {},
   "outputs": [],
   "source": [
    "import math \n",
    "dis = []\n",
    "for i in range(80):\n",
    "    dis.append(math.sqrt((float(df.iloc[i]['Usia'])-29)**6+\n",
    "                         (float(df.iloc[i]['Kelahiran_ke-'])- 2)**6+\n",
    "                         (float(df.iloc[i]['Waktu_Kelahiran'])-0)**6+\n",
    "                         (float(df.iloc[i]['Tekanan_darah'])-2)**6))"
   ]
  },
  {
   "cell_type": "code",
   "execution_count": null,
   "id": "a7d5742b",
   "metadata": {},
   "outputs": [],
   "source": [
    "df['dis'] = dis\n",
    "df"
   ]
  },
  {
   "cell_type": "code",
   "execution_count": null,
   "id": "62643e6f",
   "metadata": {},
   "outputs": [],
   "source": [
    "df.sort_values('dis')"
   ]
  },
  {
   "cell_type": "code",
   "execution_count": null,
   "id": "c5fd1b75",
   "metadata": {},
   "outputs": [],
   "source": [
    "y = df.sort_values('dis').head(3)\n",
    "y"
   ]
  },
  {
   "cell_type": "code",
   "execution_count": null,
   "id": "18ac5ba5",
   "metadata": {},
   "outputs": [],
   "source": [
    "z = y[\"Caesarian\"]\n",
    "z"
   ]
  },
  {
   "cell_type": "code",
   "execution_count": null,
   "id": "f48dac6b",
   "metadata": {},
   "outputs": [],
   "source": [
    "np.mean(z)"
   ]
  },
  {
   "cell_type": "code",
   "execution_count": null,
   "id": "6af6507b",
   "metadata": {},
   "outputs": [],
   "source": [
    "df.to_excel('E:/KULIAH/Semester 6/DATA MINING/UAS/output33.xls')"
   ]
  },
  {
   "cell_type": "code",
   "execution_count": null,
   "id": "ca336195",
   "metadata": {},
   "outputs": [],
   "source": []
  }
 ],
 "metadata": {
  "kernelspec": {
   "display_name": "Python 3 (ipykernel)",
   "language": "python",
   "name": "python3"
  },
  "language_info": {
   "codemirror_mode": {
    "name": "ipython",
    "version": 3
   },
   "file_extension": ".py",
   "mimetype": "text/x-python",
   "name": "python",
   "nbconvert_exporter": "python",
   "pygments_lexer": "ipython3",
   "version": "3.9.7"
  }
 },
 "nbformat": 4,
 "nbformat_minor": 5
}
